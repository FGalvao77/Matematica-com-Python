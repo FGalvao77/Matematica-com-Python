{
  "nbformat": 4,
  "nbformat_minor": 0,
  "metadata": {
    "colab": {
      "name": "01) Álgebra linear c/ NumPy.ipynb",
      "provenance": [],
      "collapsed_sections": [],
      "authorship_tag": "ABX9TyO0VqRdWC4pEY2EWUE434gT",
      "include_colab_link": true
    },
    "kernelspec": {
      "name": "python3",
      "display_name": "Python 3"
    },
    "language_info": {
      "name": "python"
    }
  },
  "cells": [
    {
      "cell_type": "markdown",
      "metadata": {
        "id": "view-in-github",
        "colab_type": "text"
      },
      "source": [
        "<a href=\"https://colab.research.google.com/github/FGalvao77/Matematica-com-Python/blob/main/01)_%C3%81lgebra_linear_c_NumPy.ipynb\" target=\"_parent\"><img src=\"https://colab.research.google.com/assets/colab-badge.svg\" alt=\"Open In Colab\"/></a>"
      ]
    },
    {
      "cell_type": "markdown",
      "source": [
        "# **01) Álgebra linear c/ NumPy**\n",
        "\n",
        "---\n",
        "\n"
      ],
      "metadata": {
        "id": "iLplh4qqPYLq"
      }
    },
    {
      "cell_type": "code",
      "source": [
        "# biblioteca para exibicão do vídeo-aula no ambiente do google colab\n",
        "from IPython.display import YouTubeVideo\n",
        "\n",
        "# vídeo-aula \n",
        "YouTubeVideo('ziMlEurY1k8', width = 720, height = 480)"
      ],
      "metadata": {
        "colab": {
          "base_uri": "https://localhost:8080/",
          "height": 501
        },
        "id": "Ny5-4PSnYiVC",
        "outputId": "485910e0-e508-4b08-b7ca-efe56432c0b3"
      },
      "execution_count": 39,
      "outputs": [
        {
          "output_type": "execute_result",
          "data": {
            "text/html": [
              "\n",
              "        <iframe\n",
              "            width=\"720\"\n",
              "            height=\"480\"\n",
              "            src=\"https://www.youtube.com/embed/ziMlEurY1k8\"\n",
              "            frameborder=\"0\"\n",
              "            allowfullscreen\n",
              "        ></iframe>\n",
              "        "
            ],
            "text/plain": [
              "<IPython.lib.display.YouTubeVideo at 0x7f432564d610>"
            ],
            "image/jpeg": "[encoded data removed]"
          },
          "metadata": {},
          "execution_count": 39
        }
      ]
    },
    {
      "cell_type": "markdown",
      "source": [
        "### **Sistema de equações**\n",
        "\n"
      ],
      "metadata": {
        "id": "4b1uYiVtPbk5"
      }
    },
    {
      "cell_type": "markdown",
      "source": [
        "_Exemplo 1:_\n",
        "\n",
        "- $2x + 3y = 5$\n",
        "\n",
        "- $x-2y = 8$"
      ],
      "metadata": {
        "id": "t9UjxjydRdnp"
      }
    },
    {
      "cell_type": "code",
      "execution_count": 1,
      "metadata": {
        "id": "Q0eFzkHoPPjv"
      },
      "outputs": [],
      "source": [
        "import numpy as np"
      ]
    },
    {
      "cell_type": "code",
      "source": [
        "a1 = np.array([[2,3], [1,-2]])\n",
        "b1 = np.array([5,8])"
      ],
      "metadata": {
        "id": "_U0vuRsgPbMh"
      },
      "execution_count": 2,
      "outputs": []
    },
    {
      "cell_type": "code",
      "source": [
        "print(\n",
        "    f'a1:\\n{a1}',\n",
        "    f'b1:\\n{b1}',\n",
        "    sep='\\n\\n'\n",
        ")"
      ],
      "metadata": {
        "colab": {
          "base_uri": "https://localhost:8080/"
        },
        "id": "wG_LLw8GPbKR",
        "outputId": "bafc6930-135c-44b9-b2a3-8f411b0e36fc"
      },
      "execution_count": 4,
      "outputs": [
        {
          "output_type": "stream",
          "name": "stdout",
          "text": [
            "a1:\n",
            "[[ 2  3]\n",
            " [ 1 -2]]\n",
            "\n",
            "b1:\n",
            "[5 8]\n"
          ]
        }
      ]
    },
    {
      "cell_type": "code",
      "source": [
        "solucao1 = np.linalg.solve(a1, b1)\n",
        "solucao1"
      ],
      "metadata": {
        "colab": {
          "base_uri": "https://localhost:8080/"
        },
        "id": "Edjzo1lUPbH9",
        "outputId": "311dbeab-63a1-4dd0-e890-96d50f03afbc"
      },
      "execution_count": 6,
      "outputs": [
        {
          "output_type": "execute_result",
          "data": {
            "text/plain": [
              "array([ 4.85714286, -1.57142857])"
            ]
          },
          "metadata": {},
          "execution_count": 6
        }
      ]
    },
    {
      "cell_type": "code",
      "source": [
        "x = solucao1[0]\n",
        "y = solucao1[1]\n",
        "\n",
        "print(x)\n",
        "print(y)"
      ],
      "metadata": {
        "colab": {
          "base_uri": "https://localhost:8080/"
        },
        "id": "M6h14KbESTxC",
        "outputId": "a6bd2f26-8551-4a7d-a598-d3e430fd7fd4"
      },
      "execution_count": 12,
      "outputs": [
        {
          "output_type": "stream",
          "name": "stdout",
          "text": [
            "4.857142857142857\n",
            "-1.5714285714285714\n"
          ]
        }
      ]
    },
    {
      "cell_type": "code",
      "source": [
        "print(\n",
        "    f'x: {solucao1[0]}',\n",
        "    f'y: {solucao1[1]}',\n",
        "    sep='\\n'\n",
        ")"
      ],
      "metadata": {
        "colab": {
          "base_uri": "https://localhost:8080/"
        },
        "id": "5YMV7vEhPbFJ",
        "outputId": "bdaeb0f9-d9b0-4655-c8bf-4023d2830ee2"
      },
      "execution_count": 8,
      "outputs": [
        {
          "output_type": "stream",
          "name": "stdout",
          "text": [
            "x: 4.857142857142857\n",
            "y: -1.5714285714285714\n"
          ]
        }
      ]
    },
    {
      "cell_type": "markdown",
      "source": [
        "_Exemplo 2:_\n",
        "\n",
        "- $x + 2y = 8$\n",
        "\n",
        "- $3x + 4y = 18$"
      ],
      "metadata": {
        "id": "OOp-EAO2Ri8w"
      }
    },
    {
      "cell_type": "code",
      "source": [
        "a2 = np.array([[1,2], [3,4]])\n",
        "b2 = np.array([8, 18])"
      ],
      "metadata": {
        "id": "nZlQMJHqPbCp"
      },
      "execution_count": 9,
      "outputs": []
    },
    {
      "cell_type": "code",
      "source": [
        "solucao2 = np.linalg.solve(a2, b2)"
      ],
      "metadata": {
        "id": "fvk_hZIQRIEA"
      },
      "execution_count": 10,
      "outputs": []
    },
    {
      "cell_type": "code",
      "source": [
        "print(\n",
        "    f'x: {solucao2[0]}',\n",
        "    f'y: {solucao2[1]}',\n",
        "    sep='\\n'\n",
        ")"
      ],
      "metadata": {
        "colab": {
          "base_uri": "https://localhost:8080/"
        },
        "id": "XrBDIPGRRIAx",
        "outputId": "0350025f-2713-491a-a4c1-e9d8586b0e56"
      },
      "execution_count": 13,
      "outputs": [
        {
          "output_type": "stream",
          "name": "stdout",
          "text": [
            "x: 1.9999999999999993\n",
            "y: 3.0000000000000004\n"
          ]
        }
      ]
    },
    {
      "cell_type": "markdown",
      "source": [
        "_Exemplo 3:_\n",
        "\n",
        "- $2x + 3y + z = 15$\n",
        "\n",
        "- $x-4y + 4z = 8$\n",
        "\n",
        "- $5x + 6y - 2z = 10$"
      ],
      "metadata": {
        "id": "UfSVAkRFS5Xq"
      }
    },
    {
      "cell_type": "code",
      "source": [
        "a3 = np.array([[2,3,1], [1,-4,4], [5,6,-2]])\n",
        "b3 = np.array([15,8,10])"
      ],
      "metadata": {
        "id": "c0wqZLAuRH-p"
      },
      "execution_count": 15,
      "outputs": []
    },
    {
      "cell_type": "code",
      "source": [
        "solucao3 = np.linalg.solve(a3,b3)"
      ],
      "metadata": {
        "id": "SGaeMUo0RH7Z"
      },
      "execution_count": 16,
      "outputs": []
    },
    {
      "cell_type": "code",
      "source": [
        "print(\n",
        "    f'x: {solucao3[0]}',\n",
        "    f'y: {solucao3[1]}',\n",
        "    f'z: {solucao3[2]}', \n",
        "    sep='\\n'\n",
        ")"
      ],
      "metadata": {
        "colab": {
          "base_uri": "https://localhost:8080/"
        },
        "id": "V9QUAZ0WRH5w",
        "outputId": "831cc63a-b5d8-4578-e523-47e0fd1a1533"
      },
      "execution_count": 18,
      "outputs": [
        {
          "output_type": "stream",
          "name": "stdout",
          "text": [
            "x: 0.2666666666666666\n",
            "y: 3.1333333333333333\n",
            "z: 5.066666666666666\n"
          ]
        }
      ]
    },
    {
      "cell_type": "markdown",
      "source": [
        "_Exemplo 4:_\n",
        "\n",
        "- $-5x + 7y - 2z = -4$\n",
        "\n",
        "- $5x - 4y + 11z = 17$\n",
        "\n",
        "- $x - 9y - 5z = 8$"
      ],
      "metadata": {
        "id": "oUe3-kpTUhLu"
      }
    },
    {
      "cell_type": "code",
      "source": [
        "a4 = np.array([[-5,7,-2], [5,-4,11], [1,-9,-5]])\n",
        "b4 = np.array([-4,17,8])"
      ],
      "metadata": {
        "id": "d0q8JqPLUgmO"
      },
      "execution_count": 21,
      "outputs": []
    },
    {
      "cell_type": "code",
      "source": [
        "solucao4 = np.linalg.solve(a4, b4)"
      ],
      "metadata": {
        "id": "oHNpMFN9RH2g"
      },
      "execution_count": 23,
      "outputs": []
    },
    {
      "cell_type": "code",
      "source": [
        "print(\n",
        "    f'x: {solucao4[0]}',\n",
        "    f'y: {solucao4[1]}',\n",
        "    f'z: {solucao4[2]}',\n",
        "    sep='\\n'\n",
        ")"
      ],
      "metadata": {
        "colab": {
          "base_uri": "https://localhost:8080/"
        },
        "id": "oJEYLaB4RHzy",
        "outputId": "02a87116-2148-4c4e-d423-e607bab41d2b"
      },
      "execution_count": 24,
      "outputs": [
        {
          "output_type": "stream",
          "name": "stdout",
          "text": [
            "x: -3.743295019157089\n",
            "y: -2.5862068965517246\n",
            "z: 2.306513409961686\n"
          ]
        }
      ]
    },
    {
      "cell_type": "markdown",
      "source": [
        "Vamos conferir se os valores condizem com o resultado final da equação.\n",
        "\n",
        "Iremos utilizar as equações do _Exemplo 4_ e, para cada incógnita substituir com seus respectivos valores calculados."
      ],
      "metadata": {
        "id": "G-ngZHhQXI1K"
      }
    },
    {
      "cell_type": "markdown",
      "source": [
        "$ − 5x + 7y − 2z=−4$"
      ],
      "metadata": {
        "id": "gNeAoNIsWAHx"
      }
    },
    {
      "cell_type": "code",
      "source": [
        "a = (- 5 * -3.743295019157089) + (7 * -2.5862068965517246) - (2 * 2.306513409961686)\n",
        "a"
      ],
      "metadata": {
        "colab": {
          "base_uri": "https://localhost:8080/"
        },
        "id": "Buoqn6lAUbxG",
        "outputId": "83ee9251-d03e-4f5f-9635-15c7b5782006"
      },
      "execution_count": 33,
      "outputs": [
        {
          "output_type": "execute_result",
          "data": {
            "text/plain": [
              "-3.999999999999999"
            ]
          },
          "metadata": {},
          "execution_count": 33
        }
      ]
    },
    {
      "cell_type": "markdown",
      "source": [
        "$5x - 4y + 11z = 17$"
      ],
      "metadata": {
        "id": "1KvMyXpiXabJ"
      }
    },
    {
      "cell_type": "code",
      "source": [
        "b = (5 * -3.743295019157089) + (- 4 * -2.5862068965517246) + (11 * 2.306513409961686)\n",
        "b"
      ],
      "metadata": {
        "colab": {
          "base_uri": "https://localhost:8080/"
        },
        "id": "psKELVMVV22d",
        "outputId": "cf2f7430-33b2-4823-fb58-5b62ddbff208"
      },
      "execution_count": 35,
      "outputs": [
        {
          "output_type": "execute_result",
          "data": {
            "text/plain": [
              "17.0"
            ]
          },
          "metadata": {},
          "execution_count": 35
        }
      ]
    },
    {
      "cell_type": "markdown",
      "source": [
        "$x - 9y - 5z = 8$"
      ],
      "metadata": {
        "id": "Z4bLi8g1XsMy"
      }
    },
    {
      "cell_type": "code",
      "source": [
        "c = (-3.743295019157089) - (9 * -2.5862068965517246) - (5 * 2.306513409961686)\n",
        "c"
      ],
      "metadata": {
        "colab": {
          "base_uri": "https://localhost:8080/"
        },
        "id": "ZRYBlUNnV2vx",
        "outputId": "5ba4eb7c-2ef4-4224-eca2-290a21e21abc"
      },
      "execution_count": 36,
      "outputs": [
        {
          "output_type": "execute_result",
          "data": {
            "text/plain": [
              "8.000000000000004"
            ]
          },
          "metadata": {},
          "execution_count": 36
        }
      ]
    },
    {
      "cell_type": "code",
      "source": [
        ""
      ],
      "metadata": {
        "id": "offvfkH3V2zS"
      },
      "execution_count": null,
      "outputs": []
    },
    {
      "cell_type": "code",
      "source": [
        ""
      ],
      "metadata": {
        "id": "kKStUCehXt1j"
      },
      "execution_count": null,
      "outputs": []
    },
    {
      "cell_type": "code",
      "source": [
        ""
      ],
      "metadata": {
        "id": "Lk2BpYybXtwq"
      },
      "execution_count": null,
      "outputs": []
    }
  ]
}